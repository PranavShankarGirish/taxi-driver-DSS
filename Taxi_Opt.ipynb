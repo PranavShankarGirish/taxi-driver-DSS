{
 "cells": [
  {
   "cell_type": "code",
   "execution_count": 1,
   "id": "ce06afbe-2398-4da6-be21-74c979eb3879",
   "metadata": {
    "scrolled": true
   },
   "outputs": [
    {
     "data": {
      "text/html": [
       "<div><div style = \"float: left;\"><span>484042×8 DataFrame</span></div><div style = \"float: right;\"><span style = \"font-style: italic;\">484017 rows omitted</span></div><div style = \"clear: both;\"></div></div><div class = \"data-frame\" style = \"overflow-x: scroll;\"><table class = \"data-frame\" style = \"margin-bottom: 6px;\"><thead><tr class = \"header\"><th class = \"rowNumber\" style = \"font-weight: bold; text-align: right;\">Row</th><th style = \"text-align: left;\">PULocationID</th><th style = \"text-align: left;\">time_interval</th><th style = \"text-align: left;\">DOLocationID</th><th style = \"text-align: left;\">total_amount</th><th style = \"text-align: left;\">duration_interval</th><th style = \"text-align: left;\">trips</th><th style = \"text-align: left;\">ride_percentage</th><th style = \"text-align: left;\">next_time_interval</th></tr><tr class = \"subheader headerLastRow\"><th class = \"rowNumber\" style = \"font-weight: bold; text-align: right;\"></th><th title = \"Int64\" style = \"text-align: left;\">Int64</th><th title = \"Int64\" style = \"text-align: left;\">Int64</th><th title = \"Int64\" style = \"text-align: left;\">Int64</th><th title = \"Float64\" style = \"text-align: left;\">Float64</th><th title = \"Float64\" style = \"text-align: left;\">Float64</th><th title = \"Int64\" style = \"text-align: left;\">Int64</th><th title = \"Float64\" style = \"text-align: left;\">Float64</th><th title = \"Int64\" style = \"text-align: left;\">Int64</th></tr></thead><tbody><tr><td class = \"rowNumber\" style = \"font-weight: bold; text-align: right;\">1</td><td style = \"text-align: right;\">1</td><td style = \"text-align: right;\">0</td><td style = \"text-align: right;\">6</td><td style = \"text-align: right;\">118.08</td><td style = \"text-align: right;\">1.0</td><td style = \"text-align: right;\">2</td><td style = \"text-align: right;\">0.5</td><td style = \"text-align: right;\">1</td></tr><tr><td class = \"rowNumber\" style = \"font-weight: bold; text-align: right;\">2</td><td style = \"text-align: right;\">1</td><td style = \"text-align: right;\">0</td><td style = \"text-align: right;\">265</td><td style = \"text-align: right;\">93.5</td><td style = \"text-align: right;\">1.0</td><td style = \"text-align: right;\">2</td><td style = \"text-align: right;\">0.5</td><td style = \"text-align: right;\">1</td></tr><tr><td class = \"rowNumber\" style = \"font-weight: bold; text-align: right;\">3</td><td style = \"text-align: right;\">1</td><td style = \"text-align: right;\">1</td><td style = \"text-align: right;\">186</td><td style = \"text-align: right;\">161.7</td><td style = \"text-align: right;\">1.0</td><td style = \"text-align: right;\">1</td><td style = \"text-align: right;\">0.5</td><td style = \"text-align: right;\">2</td></tr><tr><td class = \"rowNumber\" style = \"font-weight: bold; text-align: right;\">4</td><td style = \"text-align: right;\">1</td><td style = \"text-align: right;\">1</td><td style = \"text-align: right;\">265</td><td style = \"text-align: right;\">59.38</td><td style = \"text-align: right;\">1.0</td><td style = \"text-align: right;\">1</td><td style = \"text-align: right;\">0.5</td><td style = \"text-align: right;\">2</td></tr><tr><td class = \"rowNumber\" style = \"font-weight: bold; text-align: right;\">5</td><td style = \"text-align: right;\">1</td><td style = \"text-align: right;\">2</td><td style = \"text-align: right;\">264</td><td style = \"text-align: right;\">71.5</td><td style = \"text-align: right;\">1.0</td><td style = \"text-align: right;\">1</td><td style = \"text-align: right;\">0.5</td><td style = \"text-align: right;\">3</td></tr><tr><td class = \"rowNumber\" style = \"font-weight: bold; text-align: right;\">6</td><td style = \"text-align: right;\">1</td><td style = \"text-align: right;\">2</td><td style = \"text-align: right;\">265</td><td style = \"text-align: right;\">19.5</td><td style = \"text-align: right;\">1.0</td><td style = \"text-align: right;\">1</td><td style = \"text-align: right;\">0.5</td><td style = \"text-align: right;\">3</td></tr><tr><td class = \"rowNumber\" style = \"font-weight: bold; text-align: right;\">7</td><td style = \"text-align: right;\">1</td><td style = \"text-align: right;\">3</td><td style = \"text-align: right;\">264</td><td style = \"text-align: right;\">81.5</td><td style = \"text-align: right;\">1.0</td><td style = \"text-align: right;\">1</td><td style = \"text-align: right;\">1.0</td><td style = \"text-align: right;\">4</td></tr><tr><td class = \"rowNumber\" style = \"font-weight: bold; text-align: right;\">8</td><td style = \"text-align: right;\">1</td><td style = \"text-align: right;\">5</td><td style = \"text-align: right;\">264</td><td style = \"text-align: right;\">156.5</td><td style = \"text-align: right;\">1.0</td><td style = \"text-align: right;\">1</td><td style = \"text-align: right;\">1.0</td><td style = \"text-align: right;\">6</td></tr><tr><td class = \"rowNumber\" style = \"font-weight: bold; text-align: right;\">9</td><td style = \"text-align: right;\">1</td><td style = \"text-align: right;\">6</td><td style = \"text-align: right;\">264</td><td style = \"text-align: right;\">67.2</td><td style = \"text-align: right;\">1.0</td><td style = \"text-align: right;\">1</td><td style = \"text-align: right;\">1.0</td><td style = \"text-align: right;\">7</td></tr><tr><td class = \"rowNumber\" style = \"font-weight: bold; text-align: right;\">10</td><td style = \"text-align: right;\">1</td><td style = \"text-align: right;\">7</td><td style = \"text-align: right;\">6</td><td style = \"text-align: right;\">128.37</td><td style = \"text-align: right;\">1.0</td><td style = \"text-align: right;\">1</td><td style = \"text-align: right;\">0.25</td><td style = \"text-align: right;\">8</td></tr><tr><td class = \"rowNumber\" style = \"font-weight: bold; text-align: right;\">11</td><td style = \"text-align: right;\">1</td><td style = \"text-align: right;\">7</td><td style = \"text-align: right;\">138</td><td style = \"text-align: right;\">160.98</td><td style = \"text-align: right;\">2.0</td><td style = \"text-align: right;\">1</td><td style = \"text-align: right;\">0.25</td><td style = \"text-align: right;\">9</td></tr><tr><td class = \"rowNumber\" style = \"font-weight: bold; text-align: right;\">12</td><td style = \"text-align: right;\">1</td><td style = \"text-align: right;\">7</td><td style = \"text-align: right;\">264</td><td style = \"text-align: right;\">119.025</td><td style = \"text-align: right;\">1.0</td><td style = \"text-align: right;\">2</td><td style = \"text-align: right;\">0.5</td><td style = \"text-align: right;\">8</td></tr><tr><td class = \"rowNumber\" style = \"font-weight: bold; text-align: right;\">13</td><td style = \"text-align: right;\">1</td><td style = \"text-align: right;\">8</td><td style = \"text-align: right;\">264</td><td style = \"text-align: right;\">145.2</td><td style = \"text-align: right;\">1.0</td><td style = \"text-align: right;\">1</td><td style = \"text-align: right;\">1.0</td><td style = \"text-align: right;\">9</td></tr><tr><td style = \"text-align: right;\">&vellip;</td><td style = \"text-align: right;\">&vellip;</td><td style = \"text-align: right;\">&vellip;</td><td style = \"text-align: right;\">&vellip;</td><td style = \"text-align: right;\">&vellip;</td><td style = \"text-align: right;\">&vellip;</td><td style = \"text-align: right;\">&vellip;</td><td style = \"text-align: right;\">&vellip;</td><td style = \"text-align: right;\">&vellip;</td></tr><tr><td class = \"rowNumber\" style = \"font-weight: bold; text-align: right;\">484031</td><td style = \"text-align: right;\">265</td><td style = \"text-align: right;\">47</td><td style = \"text-align: right;\">132</td><td style = \"text-align: right;\">55.705</td><td style = \"text-align: right;\">1.0</td><td style = \"text-align: right;\">2</td><td style = \"text-align: right;\">0.0512821</td><td style = \"text-align: right;\">1</td></tr><tr><td class = \"rowNumber\" style = \"font-weight: bold; text-align: right;\">484032</td><td style = \"text-align: right;\">265</td><td style = \"text-align: right;\">47</td><td style = \"text-align: right;\">148</td><td style = \"text-align: right;\">39.5</td><td style = \"text-align: right;\">2.0</td><td style = \"text-align: right;\">1</td><td style = \"text-align: right;\">0.025641</td><td style = \"text-align: right;\">2</td></tr><tr><td class = \"rowNumber\" style = \"font-weight: bold; text-align: right;\">484033</td><td style = \"text-align: right;\">265</td><td style = \"text-align: right;\">47</td><td style = \"text-align: right;\">156</td><td style = \"text-align: right;\">161.0</td><td style = \"text-align: right;\">2.0</td><td style = \"text-align: right;\">1</td><td style = \"text-align: right;\">0.025641</td><td style = \"text-align: right;\">2</td></tr><tr><td class = \"rowNumber\" style = \"font-weight: bold; text-align: right;\">484034</td><td style = \"text-align: right;\">265</td><td style = \"text-align: right;\">47</td><td style = \"text-align: right;\">161</td><td style = \"text-align: right;\">86.8</td><td style = \"text-align: right;\">2.0</td><td style = \"text-align: right;\">1</td><td style = \"text-align: right;\">0.025641</td><td style = \"text-align: right;\">2</td></tr><tr><td class = \"rowNumber\" style = \"font-weight: bold; text-align: right;\">484035</td><td style = \"text-align: right;\">265</td><td style = \"text-align: right;\">47</td><td style = \"text-align: right;\">164</td><td style = \"text-align: right;\">84.595</td><td style = \"text-align: right;\">2.0</td><td style = \"text-align: right;\">2</td><td style = \"text-align: right;\">0.0512821</td><td style = \"text-align: right;\">2</td></tr><tr><td class = \"rowNumber\" style = \"font-weight: bold; text-align: right;\">484036</td><td style = \"text-align: right;\">265</td><td style = \"text-align: right;\">47</td><td style = \"text-align: right;\">181</td><td style = \"text-align: right;\">203.5</td><td style = \"text-align: right;\">3.0</td><td style = \"text-align: right;\">1</td><td style = \"text-align: right;\">0.025641</td><td style = \"text-align: right;\">3</td></tr><tr><td class = \"rowNumber\" style = \"font-weight: bold; text-align: right;\">484037</td><td style = \"text-align: right;\">265</td><td style = \"text-align: right;\">47</td><td style = \"text-align: right;\">216</td><td style = \"text-align: right;\">106.55</td><td style = \"text-align: right;\">2.0</td><td style = \"text-align: right;\">1</td><td style = \"text-align: right;\">0.025641</td><td style = \"text-align: right;\">2</td></tr><tr><td class = \"rowNumber\" style = \"font-weight: bold; text-align: right;\">484038</td><td style = \"text-align: right;\">265</td><td style = \"text-align: right;\">47</td><td style = \"text-align: right;\">229</td><td style = \"text-align: right;\">133.5</td><td style = \"text-align: right;\">2.0</td><td style = \"text-align: right;\">1</td><td style = \"text-align: right;\">0.025641</td><td style = \"text-align: right;\">2</td></tr><tr><td class = \"rowNumber\" style = \"font-weight: bold; text-align: right;\">484039</td><td style = \"text-align: right;\">265</td><td style = \"text-align: right;\">47</td><td style = \"text-align: right;\">230</td><td style = \"text-align: right;\">278.5</td><td style = \"text-align: right;\">1.0</td><td style = \"text-align: right;\">1</td><td style = \"text-align: right;\">0.025641</td><td style = \"text-align: right;\">1</td></tr><tr><td class = \"rowNumber\" style = \"font-weight: bold; text-align: right;\">484040</td><td style = \"text-align: right;\">265</td><td style = \"text-align: right;\">47</td><td style = \"text-align: right;\">231</td><td style = \"text-align: right;\">0.0</td><td style = \"text-align: right;\">2.0</td><td style = \"text-align: right;\">2</td><td style = \"text-align: right;\">0.0512821</td><td style = \"text-align: right;\">2</td></tr><tr><td class = \"rowNumber\" style = \"font-weight: bold; text-align: right;\">484041</td><td style = \"text-align: right;\">265</td><td style = \"text-align: right;\">47</td><td style = \"text-align: right;\">237</td><td style = \"text-align: right;\">16.97</td><td style = \"text-align: right;\">1.0</td><td style = \"text-align: right;\">1</td><td style = \"text-align: right;\">0.025641</td><td style = \"text-align: right;\">1</td></tr><tr><td class = \"rowNumber\" style = \"font-weight: bold; text-align: right;\">484042</td><td style = \"text-align: right;\">265</td><td style = \"text-align: right;\">47</td><td style = \"text-align: right;\">264</td><td style = \"text-align: right;\">94.0773</td><td style = \"text-align: right;\">1.73333</td><td style = \"text-align: right;\">15</td><td style = \"text-align: right;\">0.384615</td><td style = \"text-align: right;\">2</td></tr></tbody></table></div>"
      ],
      "text/latex": [
       "\\begin{tabular}{r|ccccccc}\n",
       "\t& PULocationID & time\\_interval & DOLocationID & total\\_amount & duration\\_interval & trips & \\\\\n",
       "\t\\hline\n",
       "\t& Int64 & Int64 & Int64 & Float64 & Float64 & Int64 & \\\\\n",
       "\t\\hline\n",
       "\t1 & 1 & 0 & 6 & 118.08 & 1.0 & 2 & $\\dots$ \\\\\n",
       "\t2 & 1 & 0 & 265 & 93.5 & 1.0 & 2 & $\\dots$ \\\\\n",
       "\t3 & 1 & 1 & 186 & 161.7 & 1.0 & 1 & $\\dots$ \\\\\n",
       "\t4 & 1 & 1 & 265 & 59.38 & 1.0 & 1 & $\\dots$ \\\\\n",
       "\t5 & 1 & 2 & 264 & 71.5 & 1.0 & 1 & $\\dots$ \\\\\n",
       "\t6 & 1 & 2 & 265 & 19.5 & 1.0 & 1 & $\\dots$ \\\\\n",
       "\t7 & 1 & 3 & 264 & 81.5 & 1.0 & 1 & $\\dots$ \\\\\n",
       "\t8 & 1 & 5 & 264 & 156.5 & 1.0 & 1 & $\\dots$ \\\\\n",
       "\t9 & 1 & 6 & 264 & 67.2 & 1.0 & 1 & $\\dots$ \\\\\n",
       "\t10 & 1 & 7 & 6 & 128.37 & 1.0 & 1 & $\\dots$ \\\\\n",
       "\t11 & 1 & 7 & 138 & 160.98 & 2.0 & 1 & $\\dots$ \\\\\n",
       "\t12 & 1 & 7 & 264 & 119.025 & 1.0 & 2 & $\\dots$ \\\\\n",
       "\t13 & 1 & 8 & 264 & 145.2 & 1.0 & 1 & $\\dots$ \\\\\n",
       "\t14 & 1 & 9 & 264 & 153.6 & 1.0 & 1 & $\\dots$ \\\\\n",
       "\t15 & 1 & 10 & 6 & 111.3 & 1.0 & 1 & $\\dots$ \\\\\n",
       "\t16 & 1 & 10 & 138 & 159.1 & 2.0 & 1 & $\\dots$ \\\\\n",
       "\t17 & 1 & 10 & 264 & 5.5 & 1.0 & 1 & $\\dots$ \\\\\n",
       "\t18 & 1 & 10 & 265 & 101.0 & 1.0 & 1 & $\\dots$ \\\\\n",
       "\t19 & 1 & 11 & 142 & 136.25 & 1.0 & 1 & $\\dots$ \\\\\n",
       "\t20 & 1 & 11 & 143 & 158.39 & 2.0 & 1 & $\\dots$ \\\\\n",
       "\t21 & 1 & 11 & 264 & 121.25 & 1.0 & 4 & $\\dots$ \\\\\n",
       "\t22 & 1 & 12 & 87 & 95.55 & 2.0 & 1 & $\\dots$ \\\\\n",
       "\t23 & 1 & 13 & 246 & 89.54 & 1.0 & 1 & $\\dots$ \\\\\n",
       "\t24 & 1 & 13 & 264 & 138.5 & 1.0 & 2 & $\\dots$ \\\\\n",
       "\t25 & 1 & 13 & 265 & 135.275 & 2.0 & 2 & $\\dots$ \\\\\n",
       "\t26 & 1 & 14 & 264 & 107.832 & 1.0 & 4 & $\\dots$ \\\\\n",
       "\t27 & 1 & 14 & 265 & 146.0 & 1.0 & 1 & $\\dots$ \\\\\n",
       "\t28 & 1 & 15 & 113 & 113.91 & 2.0 & 1 & $\\dots$ \\\\\n",
       "\t29 & 1 & 15 & 163 & 129.25 & 2.0 & 1 & $\\dots$ \\\\\n",
       "\t30 & 1 & 15 & 264 & 131.5 & 1.0 & 2 & $\\dots$ \\\\\n",
       "\t$\\dots$ & $\\dots$ & $\\dots$ & $\\dots$ & $\\dots$ & $\\dots$ & $\\dots$ &  \\\\\n",
       "\\end{tabular}\n"
      ],
      "text/plain": [
       "\u001b[1m484042×8 DataFrame\u001b[0m\n",
       "\u001b[1m    Row \u001b[0m│\u001b[1m PULocationID \u001b[0m\u001b[1m time_interval \u001b[0m\u001b[1m DOLocationID \u001b[0m\u001b[1m total_amount \u001b[0m\u001b[1m duration_in\u001b[0m ⋯\n",
       "        │\u001b[90m Int64        \u001b[0m\u001b[90m Int64         \u001b[0m\u001b[90m Int64        \u001b[0m\u001b[90m Float64      \u001b[0m\u001b[90m Float64    \u001b[0m ⋯\n",
       "────────┼───────────────────────────────────────────────────────────────────────\n",
       "      1 │            1              0             6      118.08              1 ⋯\n",
       "      2 │            1              0           265       93.5               1\n",
       "      3 │            1              1           186      161.7               1\n",
       "      4 │            1              1           265       59.38              1\n",
       "      5 │            1              2           264       71.5               1 ⋯\n",
       "      6 │            1              2           265       19.5               1\n",
       "      7 │            1              3           264       81.5               1\n",
       "      8 │            1              5           264      156.5               1\n",
       "      9 │            1              6           264       67.2               1 ⋯\n",
       "     10 │            1              7             6      128.37              1\n",
       "     11 │            1              7           138      160.98              2\n",
       "   ⋮    │      ⋮              ⋮             ⋮             ⋮                ⋮   ⋱\n",
       " 484033 │          265             47           156      161.0               2\n",
       " 484034 │          265             47           161       86.8               2 ⋯\n",
       " 484035 │          265             47           164       84.595             2\n",
       " 484036 │          265             47           181      203.5               3\n",
       " 484037 │          265             47           216      106.55              2\n",
       " 484038 │          265             47           229      133.5               2 ⋯\n",
       " 484039 │          265             47           230      278.5               1\n",
       " 484040 │          265             47           231        0.0               2\n",
       " 484041 │          265             47           237       16.97              1\n",
       " 484042 │          265             47           264       94.0773            1 ⋯\n",
       "\u001b[36m                                               4 columns and 484021 rows omitted\u001b[0m"
      ]
     },
     "execution_count": 1,
     "metadata": {},
     "output_type": "execute_result"
    }
   ],
   "source": [
    "using CSV, DataFrames, StatsBase, JuMP, Gurobi\n",
    "trips = CSV.File(\"input_df.csv\") |> DataFrame\n",
    "trips_filtered = filter(row -> row[:PULocationID] in 1:10 && row[:DOLocationID] == new_time, df) "
   ]
  },
  {
   "cell_type": "code",
   "execution_count": 2,
   "id": "57637f5d-b505-406f-a1c4-2e0ef66a80f2",
   "metadata": {},
   "outputs": [
    {
     "data": {
      "text/plain": [
       "sample_trip (generic function with 1 method)"
      ]
     },
     "execution_count": 2,
     "metadata": {},
     "output_type": "execute_result"
    }
   ],
   "source": [
    "function sample_trip(df, PULocationID, time_interval)\n",
    "    \n",
    "    # Filter DataFrame based on PULocationID and time_interval\n",
    "    filtered_df = filter(row -> row[:PULocationID] == PULocationID && row[:time_interval] == time_interval, df)\n",
    "    \n",
    "    # Calculate weights based on ride_percentage\n",
    "    weights = filtered_df[:, :ride_percentage]\n",
    "    # Randomly sample rows based on weights\n",
    "    sampled_rows = sample(1:nrow(filtered_df), Weights(weights), 1)\n",
    "    \n",
    "    # Extract the sampled trip\n",
    "    sampled_trip = filtered_df[sampled_rows, :]\n",
    "    \n",
    "    return sampled_trip\n",
    "end"
   ]
  },
  {
   "cell_type": "code",
   "execution_count": 3,
   "id": "757f49bb-615e-4b9d-b846-c96d343a8b0b",
   "metadata": {},
   "outputs": [
    {
     "data": {
      "text/plain": [
       "expected_return (generic function with 1 method)"
      ]
     },
     "execution_count": 3,
     "metadata": {},
     "output_type": "execute_result"
    }
   ],
   "source": [
    "function expected_return(df, pickup,drop,current_time,rem_trips)\n",
    "    gamma = 0.9\n",
    "    pickup_df = DataFrame()\n",
    "\n",
    "    #Fare calculation\n",
    "    fare = 0 #initializing fare as 0 (stays as zero if drop = pickup)\n",
    "    new_time = (current_time+1)%48 # initializing next timestep\n",
    "    if pickup != drop\n",
    "        pickup_df = filter(row -> row[:PULocationID] == pickup && row[:time_interval] == current_time && row[:DOLocationID] == drop, df)\n",
    "        fare = pickup_df[1,\"total_amount\"]\n",
    "        new_time = pickup_df[1,\"next_time_interval\"]\n",
    "        println(\"Fare is \", fare)\n",
    "        println(\"New time is \", new_time)\n",
    "    end\n",
    "\n",
    "    #Expected Returns Recursion\n",
    "    drop_df = filter(row -> row[:PULocationID] == drop && row[:time_interval] == new_time, df) \n",
    "    \n",
    "    if rem_trips == 0\n",
    "        println(\"Terminate\")\n",
    "        return 0 #Termination condition: No trips remaining\n",
    "    else\n",
    "        weighted_sum = 0\n",
    "        total_trips = sum(drop_df[!,\"trips\"])\n",
    "        for dest in drop_df[!,\"DOLocationID\"] #list of destinations from the next pickup point\n",
    "            p = filter(row -> row[:DOLocationID] == dest, drop_df)[1,\"trips\"] / total_trips\n",
    "            # nt = get(first(eachrow(filter(row -> row.DOLocationID == dest, drop_df))), :next_time_interval, missing)\n",
    "            println(\"recursing into case with drop =\",drop,\" dest=\", dest,\" new_time=\",new_time,\" rem_trips=\",rem_trips-1)\n",
    "            weighted_sum += gamma * p * expected_return(df,drop,dest,new_time,rem_trips-1)\n",
    "        end\n",
    "        return fare+weighted_sum\n",
    "    end\n",
    "end\n",
    "    "
   ]
  },
  {
   "cell_type": "code",
   "execution_count": 4,
   "id": "3819fdf5-607e-4dfa-ac5c-d7f385b6b76a",
   "metadata": {},
   "outputs": [
    {
     "data": {
      "text/plain": [
       "simulation (generic function with 1 method)"
      ]
     },
     "execution_count": 4,
     "metadata": {},
     "output_type": "execute_result"
    }
   ],
   "source": [
    "function simulation(t,end_time,max_trips,start_location)\n",
    "    revenue = 0\n",
    "    rem_trips=max_trips\n",
    "    while rem_trips>=0 && t<=end_time\n",
    "        trip = sample_trip(trips, start_location, t);\n",
    "        p = trip[1,\"PULocationID\"]\n",
    "        d = trip[1,\"DOLocationID\"]\n",
    "        t_trip = trip[1,\"duration_interval\"]\n",
    "\n",
    "        \n",
    "        model = Model(Gurobi.Optimizer);\n",
    "    \n",
    "        @variable(model, z>=0, Bin)\n",
    "        @variable(model, Expected_Profit>=0)\n",
    "        \n",
    "        @objective(model, Max, Expected_Profit)\n",
    "        \n",
    "        @constraint(model, expected_profit, Expected_Profit == z*(expected_return(trips,p,d,t,rem_trips)) + (1-z)*(expected_return(trips,p,p,t,rem_trips)))\n",
    "        @constraint(model, time_constraint, t + t_trip*z <= end_time)\n",
    "        @constraint(model, num_trips_constraint, z<=max_trips-rem_trips)\n",
    "        \n",
    "        optimize!(model)\n",
    "        if value(z)==1\n",
    "            println(\"Driver should accept the trip\")\n",
    "            revenue+= trip[1,\"total_amount\"]\n",
    "            println(\"Revenue generated:\", revenue)\n",
    "        else\n",
    "            println(\"Driver should reject the trip\")\n",
    "        end\n",
    "        \n",
    "        t+= value(z) == 1 ? t_trip : 1;\n",
    "        rem_trips -= value(z) == 1 ? 1 : 0;\n",
    "        \n",
    "        \n",
    "    end\n",
    "    return revenue\n",
    "end"
   ]
  },
  {
   "cell_type": "code",
   "execution_count": 8,
   "id": "48d02528-2ee5-4986-aa75-d2dfd3d6df84",
   "metadata": {},
   "outputs": [
    {
     "data": {
      "text/plain": [
       "4"
      ]
     },
     "execution_count": 8,
     "metadata": {},
     "output_type": "execute_result"
    }
   ],
   "source": [
    "t = 20; #10am is the time driver receives first request\n",
    "end_time = 40; #8pm is the time driver ends their shift\n",
    "max_trips = 10; #driver is ready to accept a maximum of 10 trips per day\n",
    "start_location = 4\n",
    "\n",
    "# revenue = simulation(t,end_time,max_trips,start_location)"
   ]
  },
  {
   "cell_type": "code",
   "execution_count": null,
   "id": "e441f48f-4a65-4295-8a6a-d6dd463e8a12",
   "metadata": {},
   "outputs": [],
   "source": [
    "#Linearizing\n",
    "# CLusteirng\n",
    "# Taking a subset of locations"
   ]
  },
  {
   "cell_type": "code",
   "execution_count": null,
   "id": "13bab54f-5688-4e50-a6f3-80e36e61ead9",
   "metadata": {},
   "outputs": [],
   "source": [
    "trip = sample_trip(trips, start_location, t);\n",
    "p = trip[1,\"PULocationID\"]\n",
    "d = trip[1,\"DOLocationID\"]\n",
    "t_trip = trip[1,\"duration_interval\"]\n",
    "rem_trips=max_trips\n",
    "\n",
    "model = Model(Gurobi.Optimizer);\n",
    "\n",
    "@variable(model, z>=0, Bin)\n",
    "@variable(model, Expected_Profit>=0)\n",
    "\n",
    "@objective(model, Max, Expected_Profit)\n",
    "\n",
    "@constraint(model, expected_profit, Expected_Profit == z*(expected_return(trips,p,d,t,rem_trips)) + (1-z)*(expected_return(trips,p,p,t,rem_trips)))\n",
    "@constraint(model, time_constraint, t + t_trip*z <= end_time)\n",
    "@constraint(model, num_trips_constraint, z<=max_trips-rem_trips)\n",
    "\n",
    "optimize!(model)\n",
    "if value(z)==1\n",
    "    println(\"Driver should accept the trip\")\n",
    "    revenue+= trip[1,\"total_amount\"]\n",
    "    println(\"Revenue generated:\", revenue)\n",
    "else\n",
    "    println(\"Driver should reject the trip\")\n",
    "end"
   ]
  }
 ],
 "metadata": {
  "kernelspec": {
   "display_name": "Julia 1.9.2",
   "language": "julia",
   "name": "julia-1.9"
  },
  "language_info": {
   "file_extension": ".jl",
   "mimetype": "application/julia",
   "name": "julia",
   "version": "1.9.2"
  }
 },
 "nbformat": 4,
 "nbformat_minor": 5
}
